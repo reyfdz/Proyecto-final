{
  "nbformat": 4,
  "nbformat_minor": 0,
  "metadata": {
    "colab": {
      "provenance": [],
      "authorship_tag": "ABX9TyMOfm8W1bXbEvYtRrtU9gj3",
      "include_colab_link": true
    },
    "kernelspec": {
      "name": "python3",
      "display_name": "Python 3"
    },
    "language_info": {
      "name": "python"
    }
  },
  "cells": [
    {
      "cell_type": "markdown",
      "metadata": {
        "id": "view-in-github",
        "colab_type": "text"
      },
      "source": [
        "<a href=\"https://colab.research.google.com/github/reyfdz/Proyecto-final/blob/main/practica.ipynb\" target=\"_parent\"><img src=\"https://colab.research.google.com/assets/colab-badge.svg\" alt=\"Open In Colab\"/></a>"
      ]
    },
    {
      "cell_type": "code",
      "execution_count": null,
      "metadata": {
        "id": "zbtG8XA4WMhN"
      },
      "outputs": [],
      "source": [
        "import pandas as pd"
      ]
    },
    {
      "cell_type": "code",
      "source": [],
      "metadata": {
        "id": "2vqjHHBRbpt3"
      },
      "execution_count": null,
      "outputs": []
    },
    {
      "cell_type": "code",
      "source": [],
      "metadata": {
        "id": "haswJ-gwFg6d"
      },
      "execution_count": null,
      "outputs": []
    },
    {
      "cell_type": "code",
      "source": [
        "df_estaciones = pd.read_csv('https://raw.githubusercontent.com/leonpalafox/fundamentos_ds/master/ecobicis/data/estaciones.csv')"
      ],
      "metadata": {
        "id": "IoWEelSmYIah"
      },
      "execution_count": null,
      "outputs": []
    },
    {
      "cell_type": "code",
      "source": [
        "df_estaciones.head()"
      ],
      "metadata": {
        "colab": {
          "base_uri": "https://localhost:8080/",
          "height": 600
        },
        "id": "oACG6JecYSvw",
        "outputId": "f9911eee-7b33-42a5-c359-ce0781c7ca6d"
      },
      "execution_count": null,
      "outputs": [
        {
          "output_type": "execute_result",
          "data": {
            "text/plain": [
              "   Unnamed: 0                                    address        districtName  \\\n",
              "0           1  443 - Bruno Trave-Avenida México-Coyoacan  Ampliación Granada   \n",
              "1           2                     416 - Recreo-Parroquía  Ampliación Granada   \n",
              "2           3                        437 - Moras-Comunal  Ampliación Granada   \n",
              "3           4     438 - Adolfo Prieto-José María Olloqui  Ampliación Granada   \n",
              "4           5        440 - Real De Mayorazgo-Puente Xoco  Ampliación Granada   \n",
              "\n",
              "    id                                   location  \\\n",
              "0  443      {'lat': 19.359655, 'lon': -99.162025}   \n",
              "1  416      {'lat': 19.371308, 'lon': -99.177607}   \n",
              "2  437  {'lat': 19.36480833, 'lon': -99.17602222}   \n",
              "3  438  {'lat': 19.36479722, 'lon': -99.17458333}   \n",
              "4  440       {'lat': 19.36065, 'lon': -99.168669}   \n",
              "\n",
              "                                   name   nearbyStations        lat        lon  \n",
              "0          443 BRUNO TRAVEN-GOLONDRINAS  [432, 442, 444]  19.359655 -99.162025  \n",
              "1                  416 RECREO-PARROQUÍA  [390, 391, 415]  19.371308 -99.177607  \n",
              "2                     437 MORAS-COMUNAL  [423, 436, 438]  19.364808 -99.176022  \n",
              "3  438 ADOLFO PRIETO-JOSÉ MARÍA OLLOQUI  [434, 435, 437]  19.364797 -99.174583  \n",
              "4     440 REAL DE MAYORAZGO-PUENTE XOCO  [433, 439, 441]  19.360650 -99.168669  "
            ],
            "text/html": [
              "\n",
              "  <div id=\"df-72117213-388a-449a-af91-e91b3fc35106\">\n",
              "    <div class=\"colab-df-container\">\n",
              "      <div>\n",
              "<style scoped>\n",
              "    .dataframe tbody tr th:only-of-type {\n",
              "        vertical-align: middle;\n",
              "    }\n",
              "\n",
              "    .dataframe tbody tr th {\n",
              "        vertical-align: top;\n",
              "    }\n",
              "\n",
              "    .dataframe thead th {\n",
              "        text-align: right;\n",
              "    }\n",
              "</style>\n",
              "<table border=\"1\" class=\"dataframe\">\n",
              "  <thead>\n",
              "    <tr style=\"text-align: right;\">\n",
              "      <th></th>\n",
              "      <th>Unnamed: 0</th>\n",
              "      <th>address</th>\n",
              "      <th>districtName</th>\n",
              "      <th>id</th>\n",
              "      <th>location</th>\n",
              "      <th>name</th>\n",
              "      <th>nearbyStations</th>\n",
              "      <th>lat</th>\n",
              "      <th>lon</th>\n",
              "    </tr>\n",
              "  </thead>\n",
              "  <tbody>\n",
              "    <tr>\n",
              "      <th>0</th>\n",
              "      <td>1</td>\n",
              "      <td>443 - Bruno Trave-Avenida México-Coyoacan</td>\n",
              "      <td>Ampliación Granada</td>\n",
              "      <td>443</td>\n",
              "      <td>{'lat': 19.359655, 'lon': -99.162025}</td>\n",
              "      <td>443 BRUNO TRAVEN-GOLONDRINAS</td>\n",
              "      <td>[432, 442, 444]</td>\n",
              "      <td>19.359655</td>\n",
              "      <td>-99.162025</td>\n",
              "    </tr>\n",
              "    <tr>\n",
              "      <th>1</th>\n",
              "      <td>2</td>\n",
              "      <td>416 - Recreo-Parroquía</td>\n",
              "      <td>Ampliación Granada</td>\n",
              "      <td>416</td>\n",
              "      <td>{'lat': 19.371308, 'lon': -99.177607}</td>\n",
              "      <td>416 RECREO-PARROQUÍA</td>\n",
              "      <td>[390, 391, 415]</td>\n",
              "      <td>19.371308</td>\n",
              "      <td>-99.177607</td>\n",
              "    </tr>\n",
              "    <tr>\n",
              "      <th>2</th>\n",
              "      <td>3</td>\n",
              "      <td>437 - Moras-Comunal</td>\n",
              "      <td>Ampliación Granada</td>\n",
              "      <td>437</td>\n",
              "      <td>{'lat': 19.36480833, 'lon': -99.17602222}</td>\n",
              "      <td>437 MORAS-COMUNAL</td>\n",
              "      <td>[423, 436, 438]</td>\n",
              "      <td>19.364808</td>\n",
              "      <td>-99.176022</td>\n",
              "    </tr>\n",
              "    <tr>\n",
              "      <th>3</th>\n",
              "      <td>4</td>\n",
              "      <td>438 - Adolfo Prieto-José María Olloqui</td>\n",
              "      <td>Ampliación Granada</td>\n",
              "      <td>438</td>\n",
              "      <td>{'lat': 19.36479722, 'lon': -99.17458333}</td>\n",
              "      <td>438 ADOLFO PRIETO-JOSÉ MARÍA OLLOQUI</td>\n",
              "      <td>[434, 435, 437]</td>\n",
              "      <td>19.364797</td>\n",
              "      <td>-99.174583</td>\n",
              "    </tr>\n",
              "    <tr>\n",
              "      <th>4</th>\n",
              "      <td>5</td>\n",
              "      <td>440 - Real De Mayorazgo-Puente Xoco</td>\n",
              "      <td>Ampliación Granada</td>\n",
              "      <td>440</td>\n",
              "      <td>{'lat': 19.36065, 'lon': -99.168669}</td>\n",
              "      <td>440 REAL DE MAYORAZGO-PUENTE XOCO</td>\n",
              "      <td>[433, 439, 441]</td>\n",
              "      <td>19.360650</td>\n",
              "      <td>-99.168669</td>\n",
              "    </tr>\n",
              "  </tbody>\n",
              "</table>\n",
              "</div>\n",
              "      <button class=\"colab-df-convert\" onclick=\"convertToInteractive('df-72117213-388a-449a-af91-e91b3fc35106')\"\n",
              "              title=\"Convert this dataframe to an interactive table.\"\n",
              "              style=\"display:none;\">\n",
              "        \n",
              "  <svg xmlns=\"http://www.w3.org/2000/svg\" height=\"24px\"viewBox=\"0 0 24 24\"\n",
              "       width=\"24px\">\n",
              "    <path d=\"M0 0h24v24H0V0z\" fill=\"none\"/>\n",
              "    <path d=\"M18.56 5.44l.94 2.06.94-2.06 2.06-.94-2.06-.94-.94-2.06-.94 2.06-2.06.94zm-11 1L8.5 8.5l.94-2.06 2.06-.94-2.06-.94L8.5 2.5l-.94 2.06-2.06.94zm10 10l.94 2.06.94-2.06 2.06-.94-2.06-.94-.94-2.06-.94 2.06-2.06.94z\"/><path d=\"M17.41 7.96l-1.37-1.37c-.4-.4-.92-.59-1.43-.59-.52 0-1.04.2-1.43.59L10.3 9.45l-7.72 7.72c-.78.78-.78 2.05 0 2.83L4 21.41c.39.39.9.59 1.41.59.51 0 1.02-.2 1.41-.59l7.78-7.78 2.81-2.81c.8-.78.8-2.07 0-2.86zM5.41 20L4 18.59l7.72-7.72 1.47 1.35L5.41 20z\"/>\n",
              "  </svg>\n",
              "      </button>\n",
              "      \n",
              "  <style>\n",
              "    .colab-df-container {\n",
              "      display:flex;\n",
              "      flex-wrap:wrap;\n",
              "      gap: 12px;\n",
              "    }\n",
              "\n",
              "    .colab-df-convert {\n",
              "      background-color: #E8F0FE;\n",
              "      border: none;\n",
              "      border-radius: 50%;\n",
              "      cursor: pointer;\n",
              "      display: none;\n",
              "      fill: #1967D2;\n",
              "      height: 32px;\n",
              "      padding: 0 0 0 0;\n",
              "      width: 32px;\n",
              "    }\n",
              "\n",
              "    .colab-df-convert:hover {\n",
              "      background-color: #E2EBFA;\n",
              "      box-shadow: 0px 1px 2px rgba(60, 64, 67, 0.3), 0px 1px 3px 1px rgba(60, 64, 67, 0.15);\n",
              "      fill: #174EA6;\n",
              "    }\n",
              "\n",
              "    [theme=dark] .colab-df-convert {\n",
              "      background-color: #3B4455;\n",
              "      fill: #D2E3FC;\n",
              "    }\n",
              "\n",
              "    [theme=dark] .colab-df-convert:hover {\n",
              "      background-color: #434B5C;\n",
              "      box-shadow: 0px 1px 3px 1px rgba(0, 0, 0, 0.15);\n",
              "      filter: drop-shadow(0px 1px 2px rgba(0, 0, 0, 0.3));\n",
              "      fill: #FFFFFF;\n",
              "    }\n",
              "  </style>\n",
              "\n",
              "      <script>\n",
              "        const buttonEl =\n",
              "          document.querySelector('#df-72117213-388a-449a-af91-e91b3fc35106 button.colab-df-convert');\n",
              "        buttonEl.style.display =\n",
              "          google.colab.kernel.accessAllowed ? 'block' : 'none';\n",
              "\n",
              "        async function convertToInteractive(key) {\n",
              "          const element = document.querySelector('#df-72117213-388a-449a-af91-e91b3fc35106');\n",
              "          const dataTable =\n",
              "            await google.colab.kernel.invokeFunction('convertToInteractive',\n",
              "                                                     [key], {});\n",
              "          if (!dataTable) return;\n",
              "\n",
              "          const docLinkHtml = 'Like what you see? Visit the ' +\n",
              "            '<a target=\"_blank\" href=https://colab.research.google.com/notebooks/data_table.ipynb>data table notebook</a>'\n",
              "            + ' to learn more about interactive tables.';\n",
              "          element.innerHTML = '';\n",
              "          dataTable['output_type'] = 'display_data';\n",
              "          await google.colab.output.renderOutput(dataTable, element);\n",
              "          const docLink = document.createElement('div');\n",
              "          docLink.innerHTML = docLinkHtml;\n",
              "          element.appendChild(docLink);\n",
              "        }\n",
              "      </script>\n",
              "    </div>\n",
              "  </div>\n",
              "  "
            ]
          },
          "metadata": {},
          "execution_count": 14
        }
      ]
    },
    {
      "cell_type": "code",
      "source": [
        "df_estaciones.dtypes"
      ],
      "metadata": {
        "colab": {
          "base_uri": "https://localhost:8080/"
        },
        "id": "tMETos_XYe8I",
        "outputId": "1220eb0c-87e5-40a4-9a2a-499353f138bb"
      },
      "execution_count": null,
      "outputs": [
        {
          "output_type": "execute_result",
          "data": {
            "text/plain": [
              "Unnamed: 0          int64\n",
              "address            object\n",
              "districtName       object\n",
              "id                  int64\n",
              "location           object\n",
              "name               object\n",
              "nearbyStations     object\n",
              "lat               float64\n",
              "lon               float64\n",
              "dtype: object"
            ]
          },
          "metadata": {},
          "execution_count": 15
        }
      ]
    },
    {
      "cell_type": "code",
      "source": [
        "df_estaciones.shape"
      ],
      "metadata": {
        "colab": {
          "base_uri": "https://localhost:8080/"
        },
        "id": "hfvuewF2YpPY",
        "outputId": "a3a6682b-def7-4dbc-9325-0663f039df75"
      },
      "execution_count": null,
      "outputs": [
        {
          "output_type": "execute_result",
          "data": {
            "text/plain": [
              "(451, 9)"
            ]
          },
          "metadata": {},
          "execution_count": 16
        }
      ]
    },
    {
      "cell_type": "code",
      "source": [
        "df_estaciones.info()"
      ],
      "metadata": {
        "colab": {
          "base_uri": "https://localhost:8080/"
        },
        "id": "0K9WEKR4YvtM",
        "outputId": "d858f977-7086-4e47-aed4-308f418f97af"
      },
      "execution_count": null,
      "outputs": [
        {
          "output_type": "stream",
          "name": "stdout",
          "text": [
            "<class 'pandas.core.frame.DataFrame'>\n",
            "RangeIndex: 451 entries, 0 to 450\n",
            "Data columns (total 9 columns):\n",
            " #   Column          Non-Null Count  Dtype  \n",
            "---  ------          --------------  -----  \n",
            " 0   Unnamed: 0      451 non-null    int64  \n",
            " 1   address         451 non-null    object \n",
            " 2   districtName    451 non-null    object \n",
            " 3   id              451 non-null    int64  \n",
            " 4   location        451 non-null    object \n",
            " 5   name            451 non-null    object \n",
            " 6   nearbyStations  451 non-null    object \n",
            " 7   lat             451 non-null    float64\n",
            " 8   lon             451 non-null    float64\n",
            "dtypes: float64(2), int64(2), object(5)\n",
            "memory usage: 31.8+ KB\n"
          ]
        }
      ]
    },
    {
      "cell_type": "code",
      "source": [
        "#para realizar graficas de mapas\n",
        "import folium\n",
        "from folium.plugins import HeatMap\n",
        "hmap = folium.Map(location=[19.4,-99.18])\n",
        "hmap"
      ],
      "metadata": {
        "colab": {
          "base_uri": "https://localhost:8080/",
          "height": 462
        },
        "id": "12m028kmY2gl",
        "outputId": "a41a3001-c905-49e7-d00c-f923dacca212"
      },
      "execution_count": null,
      "outputs": [
        {
          "output_type": "execute_result",
          "data": {
            "text/plain": [
              "<folium.folium.Map at 0x7f03f388f1d0>"
            ],
            "text/html": [
              "<div style=\"width:100%;\"><div style=\"position:relative;width:100%;height:0;padding-bottom:60%;\"><span style=\"color:#565656\">Make this Notebook Trusted to load map: File -> Trust Notebook</span><iframe srcdoc=\"&lt;!DOCTYPE html&gt;\n",
              "&lt;head&gt;    \n",
              "    &lt;meta http-equiv=&quot;content-type&quot; content=&quot;text/html; charset=UTF-8&quot; /&gt;\n",
              "    \n",
              "        &lt;script&gt;\n",
              "            L_NO_TOUCH = false;\n",
              "            L_DISABLE_3D = false;\n",
              "        &lt;/script&gt;\n",
              "    \n",
              "    &lt;style&gt;html, body {width: 100%;height: 100%;margin: 0;padding: 0;}&lt;/style&gt;\n",
              "    &lt;style&gt;#map {position:absolute;top:0;bottom:0;right:0;left:0;}&lt;/style&gt;\n",
              "    &lt;script src=&quot;https://cdn.jsdelivr.net/npm/leaflet@1.6.0/dist/leaflet.js&quot;&gt;&lt;/script&gt;\n",
              "    &lt;script src=&quot;https://code.jquery.com/jquery-1.12.4.min.js&quot;&gt;&lt;/script&gt;\n",
              "    &lt;script src=&quot;https://maxcdn.bootstrapcdn.com/bootstrap/3.2.0/js/bootstrap.min.js&quot;&gt;&lt;/script&gt;\n",
              "    &lt;script src=&quot;https://cdnjs.cloudflare.com/ajax/libs/Leaflet.awesome-markers/2.0.2/leaflet.awesome-markers.js&quot;&gt;&lt;/script&gt;\n",
              "    &lt;link rel=&quot;stylesheet&quot; href=&quot;https://cdn.jsdelivr.net/npm/leaflet@1.6.0/dist/leaflet.css&quot;/&gt;\n",
              "    &lt;link rel=&quot;stylesheet&quot; href=&quot;https://maxcdn.bootstrapcdn.com/bootstrap/3.2.0/css/bootstrap.min.css&quot;/&gt;\n",
              "    &lt;link rel=&quot;stylesheet&quot; href=&quot;https://maxcdn.bootstrapcdn.com/bootstrap/3.2.0/css/bootstrap-theme.min.css&quot;/&gt;\n",
              "    &lt;link rel=&quot;stylesheet&quot; href=&quot;https://maxcdn.bootstrapcdn.com/font-awesome/4.6.3/css/font-awesome.min.css&quot;/&gt;\n",
              "    &lt;link rel=&quot;stylesheet&quot; href=&quot;https://cdnjs.cloudflare.com/ajax/libs/Leaflet.awesome-markers/2.0.2/leaflet.awesome-markers.css&quot;/&gt;\n",
              "    &lt;link rel=&quot;stylesheet&quot; href=&quot;https://cdn.jsdelivr.net/gh/python-visualization/folium/folium/templates/leaflet.awesome.rotate.min.css&quot;/&gt;\n",
              "    \n",
              "            &lt;meta name=&quot;viewport&quot; content=&quot;width=device-width,\n",
              "                initial-scale=1.0, maximum-scale=1.0, user-scalable=no&quot; /&gt;\n",
              "            &lt;style&gt;\n",
              "                #map_270ba2b7dd8179d1dcd47ae085306e7a {\n",
              "                    position: relative;\n",
              "                    width: 100.0%;\n",
              "                    height: 100.0%;\n",
              "                    left: 0.0%;\n",
              "                    top: 0.0%;\n",
              "                }\n",
              "            &lt;/style&gt;\n",
              "        \n",
              "&lt;/head&gt;\n",
              "&lt;body&gt;    \n",
              "    \n",
              "            &lt;div class=&quot;folium-map&quot; id=&quot;map_270ba2b7dd8179d1dcd47ae085306e7a&quot; &gt;&lt;/div&gt;\n",
              "        \n",
              "&lt;/body&gt;\n",
              "&lt;script&gt;    \n",
              "    \n",
              "            var map_270ba2b7dd8179d1dcd47ae085306e7a = L.map(\n",
              "                &quot;map_270ba2b7dd8179d1dcd47ae085306e7a&quot;,\n",
              "                {\n",
              "                    center: [19.4, -99.18],\n",
              "                    crs: L.CRS.EPSG3857,\n",
              "                    zoom: 10,\n",
              "                    zoomControl: true,\n",
              "                    preferCanvas: false,\n",
              "                }\n",
              "            );\n",
              "\n",
              "            \n",
              "\n",
              "        \n",
              "    \n",
              "            var tile_layer_aab5d80a48980c4d44d6fdce2c98d3fb = L.tileLayer(\n",
              "                &quot;https://{s}.tile.openstreetmap.org/{z}/{x}/{y}.png&quot;,\n",
              "                {&quot;attribution&quot;: &quot;Data by \\u0026copy; \\u003ca href=\\&quot;http://openstreetmap.org\\&quot;\\u003eOpenStreetMap\\u003c/a\\u003e, under \\u003ca href=\\&quot;http://www.openstreetmap.org/copyright\\&quot;\\u003eODbL\\u003c/a\\u003e.&quot;, &quot;detectRetina&quot;: false, &quot;maxNativeZoom&quot;: 18, &quot;maxZoom&quot;: 18, &quot;minZoom&quot;: 0, &quot;noWrap&quot;: false, &quot;opacity&quot;: 1, &quot;subdomains&quot;: &quot;abc&quot;, &quot;tms&quot;: false}\n",
              "            ).addTo(map_270ba2b7dd8179d1dcd47ae085306e7a);\n",
              "        \n",
              "&lt;/script&gt;\" style=\"position:absolute;width:100%;height:100%;left:0;top:0;border:none !important;\" allowfullscreen webkitallowfullscreen mozallowfullscreen></iframe></div></div>"
            ]
          },
          "metadata": {},
          "execution_count": 18
        }
      ]
    },
    {
      "cell_type": "code",
      "source": [
        "df_estaciones.lat.values + df_estaciones.lon.values\n",
        "#latitud y longitud"
      ],
      "metadata": {
        "colab": {
          "base_uri": "https://localhost:8080/"
        },
        "id": "yYsgnnjNaGME",
        "outputId": "ad2a2682-e1e7-4427-dd59-4ecc9c7953b1"
      },
      "execution_count": null,
      "outputs": [
        {
          "output_type": "execute_result",
          "data": {
            "text/plain": [
              "array([-79.80237   , -79.806299  , -79.81121389, -79.80978611,\n",
              "       -79.808019  , -79.791719  , -79.79742   , -79.788879  ,\n",
              "       -79.7957776 , -79.800098  , -79.797594  , -79.792319  ,\n",
              "       -79.795089  , -79.7877771 , -79.727013  , -79.729284  ,\n",
              "       -79.75178   , -79.742634  , -79.739624  , -79.731665  ,\n",
              "       -79.751807  , -79.756053  , -79.746784  , -79.7145    ,\n",
              "       -79.703708  , -79.760047  , -79.767264  , -79.762488  ,\n",
              "       -79.75785   , -79.758446  , -79.701488  , -79.769651  ,\n",
              "       -79.726699  , -79.71128   , -79.71826   , -79.728103  ,\n",
              "       -79.718915  , -79.728956  , -79.754327  , -79.761279  ,\n",
              "       -79.775615  , -79.774716  , -79.72053   , -79.755638  ,\n",
              "       -79.764239  , -79.775582  , -79.770119  , -79.756449  ,\n",
              "       -79.767242  , -79.766987  , -79.763709  , -79.755873  ,\n",
              "       -79.745649  , -79.750603  , -79.752089  , -79.724649  ,\n",
              "       -79.71711   , -79.751492  , -79.71195   , -79.711426  ,\n",
              "       -79.710249  , -79.757283  , -79.763121  , -79.709776  ,\n",
              "       -79.769113  , -79.787242  , -79.780838  , -79.784478  ,\n",
              "       -79.786414  , -79.791726  , -79.787558  , -79.768036  ,\n",
              "       -79.772088  , -79.7815115 , -79.746119  , -79.749445  ,\n",
              "       -79.747692  , -79.745688  , -79.748463  , -79.744807  ,\n",
              "       -79.81027778, -79.811602  , -79.807711  , -79.807752  ,\n",
              "       -79.809917  , -79.809934  , -79.809131  , -79.795169  ,\n",
              "       -79.788521  , -79.785833  , -79.708156  , -79.708468  ,\n",
              "       -79.709138  , -79.709191  , -79.709024  , -79.710517  ,\n",
              "       -79.712102  , -79.709597  , -79.792851  , -79.798836  ,\n",
              "       -79.803038  , -79.79664   , -79.69702   , -79.712388  ,\n",
              "       -79.708259  , -79.707047  , -79.722642  , -79.722228  ,\n",
              "       -79.71211   , -79.703764  , -79.70792   , -79.699043  ,\n",
              "       -79.700748  , -79.700171  , -79.694966  , -79.69807   ,\n",
              "       -79.697152  , -79.702976  , -79.711855  , -79.70357   ,\n",
              "       -79.718343  , -79.71596   , -79.705315  , -79.707529  ,\n",
              "       -79.710571  , -79.705803  , -79.712871  , -79.710835  ,\n",
              "       -79.715026  , -79.764835  , -79.764826  , -79.756052  ,\n",
              "       -79.760221  , -79.7624    , -79.758992  , -79.75671   ,\n",
              "       -79.76366   , -79.75461   , -79.756113  , -79.764083  ,\n",
              "       -79.762504  , -79.762932  , -79.76188   , -79.732601  ,\n",
              "       -79.729242  , -79.737183  , -79.748493  , -79.74609   ,\n",
              "       -79.743404  , -79.739643  , -79.736037  , -79.749698  ,\n",
              "       -79.734755  , -79.740309  , -79.741909  , -79.710057  ,\n",
              "       -79.727966  , -79.720835  , -79.7863268 , -79.784054  ,\n",
              "       -79.7819    , -79.783798  , -79.7784086 , -79.776727  ,\n",
              "       -79.780136  , -79.786501  , -79.784142  , -79.782191  ,\n",
              "       -79.779024  , -79.788695  , -79.784152  , -79.762581  ,\n",
              "       -79.766645  , -79.774377  , -79.780144  , -79.774701  ,\n",
              "       -79.771878  , -79.770693  , -79.772295  , -79.769347  ,\n",
              "       -79.767225  , -79.768067  , -79.770453  , -79.775065  ,\n",
              "       -79.777326  , -79.777634  , -79.788356  , -79.792253  ,\n",
              "       -79.805032  , -79.805141  , -79.799155  , -79.796072  ,\n",
              "       -79.798633  , -79.794053  , -79.79463   , -79.792112  ,\n",
              "       -79.7916285 , -79.807261  , -79.807722  , -79.803323  ,\n",
              "       -79.800323  , -79.802124  , -79.803525  , -79.804522  ,\n",
              "       -79.777836  , -79.780742  , -79.784308  , -79.771839  ,\n",
              "       -79.778188  , -79.77748   , -79.774724  , -79.773603  ,\n",
              "       -79.771915  , -79.780313  , -79.805763  , -79.803628  ,\n",
              "       -79.796935  , -79.79677   , -79.801285  , -79.800041  ,\n",
              "       -79.797835  , -79.7970086 , -79.760706  , -79.75243   ,\n",
              "       -79.752203  , -79.772851  , -79.773624  , -79.765367  ,\n",
              "       -79.767968  , -79.761023  , -79.771556  , -79.769879  ,\n",
              "       -79.766893  , -79.764811  , -79.760469  , -79.755783  ,\n",
              "       -79.757378  , -79.75154   , -79.765821  , -79.762567  ,\n",
              "       -79.759928  , -79.754109  , -79.766986  , -79.765399  ,\n",
              "       -79.769301  , -79.811071  , -79.811882  , -79.810896  ,\n",
              "       -79.80971   , -79.809929  , -79.811006  , -79.80595   ,\n",
              "       -79.808317  , -79.805828  , -79.787725  , -79.789058  ,\n",
              "       -79.791241  , -79.757918  , -79.754213  , -79.72405   ,\n",
              "       -79.724629  , -79.729751  , -79.727655  , -79.733237  ,\n",
              "       -79.731137  , -79.72875   , -79.734021  , -79.73718   ,\n",
              "       -79.737881  , -79.733355  , -79.747217  , -79.742197  ,\n",
              "       -79.738964  , -79.738551  , -79.7482    , -79.744931  ,\n",
              "       -79.74289   , -79.740002  , -79.722041  , -79.733499  ,\n",
              "       -79.748952  , -79.783574  , -79.781953  , -79.786153  ,\n",
              "       -79.793354  , -79.775288  , -79.778183  , -79.778778  ,\n",
              "       -79.786398  , -79.781965  , -79.782133  , -79.77724   ,\n",
              "       -79.776334  , -79.785684  , -79.782128  , -79.78887   ,\n",
              "       -79.768037  , -79.764411  , -79.760543  , -79.764473  ,\n",
              "       -79.764495  , -79.754906  , -79.758776  , -79.75438   ,\n",
              "       -79.774516  , -79.772617  , -79.775353  , -79.778379  ,\n",
              "       -79.802172  , -79.79502   , -79.772302  , -79.767651  ,\n",
              "       -79.751202  , -79.76775   , -79.76896   , -79.77285   ,\n",
              "       -79.77299   , -79.754555  , -79.771415  , -79.772816  ,\n",
              "       -79.769976  , -79.76372   , -79.76572   , -79.759307  ,\n",
              "       -79.751189  , -79.749784  , -79.762773  , -79.758847  ,\n",
              "       -79.749188  , -79.765621  , -79.748461  , -79.755653  ,\n",
              "       -79.770881  , -79.760015  , -79.754921  , -79.754529  ,\n",
              "       -79.77177   , -79.768867  , -79.76584   , -79.762327  ,\n",
              "       -79.750717  , -79.755582  , -79.774266  , -79.773072  ,\n",
              "       -79.769766  , -79.764357  , -79.760371  , -79.75681   ,\n",
              "       -79.75444   , -79.751187  , -79.786007  , -79.7914    ,\n",
              "       -79.790073  , -79.752257  , -79.750606  , -79.744669  ,\n",
              "       -79.742067  , -79.748743  , -79.747766  , -79.750253  ,\n",
              "       -79.756704  , -79.753478  , -79.750518  , -79.731663  ,\n",
              "       -79.73985   , -79.735012  , -79.738497  , -79.742712  ,\n",
              "       -79.736439  , -79.741735  , -79.735783  , -79.733587  ,\n",
              "       -79.741256  , -79.735874  , -79.745014  , -79.738307  ,\n",
              "       -79.737611  , -79.745969  , -79.740248  , -79.743635  ,\n",
              "       -79.750889  , -79.743239  , -79.739645  , -79.747801  ,\n",
              "       -79.754979  , -79.746261  , -79.742287  , -79.743709  ,\n",
              "       -79.750344  , -79.758083  , -79.757673  , -79.751693  ,\n",
              "       -79.755081  , -79.76038   , -79.74827   , -79.747856  ,\n",
              "       -79.75938   , -79.757578  , -79.751185  , -79.762756  ,\n",
              "       -79.756235  , -79.790397  , -79.792423  , -79.795762  ,\n",
              "       -79.7969963 , -79.79543   , -79.79797   , -79.795221  ,\n",
              "       -79.792835  , -79.789433  , -79.787268  , -79.77029   ,\n",
              "       -79.77      , -79.77626   , -79.77428   , -79.77843   ,\n",
              "       -79.77794   , -79.774264  , -79.78005   , -79.802795  ,\n",
              "       -79.80557   , -79.801333  , -79.800546  , -79.791103  ,\n",
              "       -79.792156  , -79.794506  , -79.793248  , -79.795424  ,\n",
              "       -79.798301  , -79.722151  , -79.72096   , -79.73242   ,\n",
              "       -79.72072   , -79.72635   , -79.72321   , -79.723548  ,\n",
              "       -79.728258  , -79.721431  , -79.727176  , -79.71711   ,\n",
              "       -79.713866  , -79.8017682 , -79.799762  , -79.798236  ,\n",
              "       -79.795786  , -79.798636  , -79.802353  , -79.802493  ,\n",
              "       -79.806312  , -79.805395  , -79.800498  ])"
            ]
          },
          "metadata": {},
          "execution_count": 19
        }
      ]
    },
    {
      "cell_type": "code",
      "source": [
        "hm=HeatMap(list(zip(df_estaciones.lat.values, df_estaciones.lon.values))) #tuplas\n",
        "hmap.add_child(hm)\n",
        "hmap"
      ],
      "metadata": {
        "colab": {
          "base_uri": "https://localhost:8080/",
          "height": 462
        },
        "id": "4trmoCJnavoU",
        "outputId": "565470ce-e3fc-48ce-85ac-3ab76d64945f"
      },
      "execution_count": null,
      "outputs": [
        {
          "output_type": "execute_result",
          "data": {
            "text/plain": [
              "<folium.folium.Map at 0x7f03f388f1d0>"
            ],
            "text/html": [
              "<div style=\"width:100%;\"><div style=\"position:relative;width:100%;height:0;padding-bottom:60%;\"><span style=\"color:#565656\">Make this Notebook Trusted to load map: File -> Trust Notebook</span><iframe srcdoc=\"&lt;!DOCTYPE html&gt;\n",
              "&lt;head&gt;    \n",
              "    &lt;meta http-equiv=&quot;content-type&quot; content=&quot;text/html; charset=UTF-8&quot; /&gt;\n",
              "    \n",
              "        &lt;script&gt;\n",
              "            L_NO_TOUCH = false;\n",
              "            L_DISABLE_3D = false;\n",
              "        &lt;/script&gt;\n",
              "    \n",
              "    &lt;style&gt;html, body {width: 100%;height: 100%;margin: 0;padding: 0;}&lt;/style&gt;\n",
              "    &lt;style&gt;#map {position:absolute;top:0;bottom:0;right:0;left:0;}&lt;/style&gt;\n",
              "    &lt;script src=&quot;https://cdn.jsdelivr.net/npm/leaflet@1.6.0/dist/leaflet.js&quot;&gt;&lt;/script&gt;\n",
              "    &lt;script src=&quot;https://code.jquery.com/jquery-1.12.4.min.js&quot;&gt;&lt;/script&gt;\n",
              "    &lt;script src=&quot;https://maxcdn.bootstrapcdn.com/bootstrap/3.2.0/js/bootstrap.min.js&quot;&gt;&lt;/script&gt;\n",
              "    &lt;script src=&quot;https://cdnjs.cloudflare.com/ajax/libs/Leaflet.awesome-markers/2.0.2/leaflet.awesome-markers.js&quot;&gt;&lt;/script&gt;\n",
              "    &lt;link rel=&quot;stylesheet&quot; href=&quot;https://cdn.jsdelivr.net/npm/leaflet@1.6.0/dist/leaflet.css&quot;/&gt;\n",
              "    &lt;link rel=&quot;stylesheet&quot; href=&quot;https://maxcdn.bootstrapcdn.com/bootstrap/3.2.0/css/bootstrap.min.css&quot;/&gt;\n",
              "    &lt;link rel=&quot;stylesheet&quot; href=&quot;https://maxcdn.bootstrapcdn.com/bootstrap/3.2.0/css/bootstrap-theme.min.css&quot;/&gt;\n",
              "    &lt;link rel=&quot;stylesheet&quot; href=&quot;https://maxcdn.bootstrapcdn.com/font-awesome/4.6.3/css/font-awesome.min.css&quot;/&gt;\n",
              "    &lt;link rel=&quot;stylesheet&quot; href=&quot;https://cdnjs.cloudflare.com/ajax/libs/Leaflet.awesome-markers/2.0.2/leaflet.awesome-markers.css&quot;/&gt;\n",
              "    &lt;link rel=&quot;stylesheet&quot; href=&quot;https://cdn.jsdelivr.net/gh/python-visualization/folium/folium/templates/leaflet.awesome.rotate.min.css&quot;/&gt;\n",
              "    \n",
              "            &lt;meta name=&quot;viewport&quot; content=&quot;width=device-width,\n",
              "                initial-scale=1.0, maximum-scale=1.0, user-scalable=no&quot; /&gt;\n",
              "            &lt;style&gt;\n",
              "                #map_270ba2b7dd8179d1dcd47ae085306e7a {\n",
              "                    position: relative;\n",
              "                    width: 100.0%;\n",
              "                    height: 100.0%;\n",
              "                    left: 0.0%;\n",
              "                    top: 0.0%;\n",
              "                }\n",
              "            &lt;/style&gt;\n",
              "        \n",
              "    &lt;script src=&quot;https://cdn.jsdelivr.net/gh/python-visualization/folium@master/folium/templates/leaflet_heat.min.js&quot;&gt;&lt;/script&gt;\n",
              "&lt;/head&gt;\n",
              "&lt;body&gt;    \n",
              "    \n",
              "            &lt;div class=&quot;folium-map&quot; id=&quot;map_270ba2b7dd8179d1dcd47ae085306e7a&quot; &gt;&lt;/div&gt;\n",
              "        \n",
              "&lt;/body&gt;\n",
              "&lt;script&gt;    \n",
              "    \n",
              "            var map_270ba2b7dd8179d1dcd47ae085306e7a = L.map(\n",
              "                &quot;map_270ba2b7dd8179d1dcd47ae085306e7a&quot;,\n",
              "                {\n",
              "                    center: [19.4, -99.18],\n",
              "                    crs: L.CRS.EPSG3857,\n",
              "                    zoom: 10,\n",
              "                    zoomControl: true,\n",
              "                    preferCanvas: false,\n",
              "                }\n",
              "            );\n",
              "\n",
              "            \n",
              "\n",
              "        \n",
              "    \n",
              "            var tile_layer_aab5d80a48980c4d44d6fdce2c98d3fb = L.tileLayer(\n",
              "                &quot;https://{s}.tile.openstreetmap.org/{z}/{x}/{y}.png&quot;,\n",
              "                {&quot;attribution&quot;: &quot;Data by \\u0026copy; \\u003ca href=\\&quot;http://openstreetmap.org\\&quot;\\u003eOpenStreetMap\\u003c/a\\u003e, under \\u003ca href=\\&quot;http://www.openstreetmap.org/copyright\\&quot;\\u003eODbL\\u003c/a\\u003e.&quot;, &quot;detectRetina&quot;: false, &quot;maxNativeZoom&quot;: 18, &quot;maxZoom&quot;: 18, &quot;minZoom&quot;: 0, &quot;noWrap&quot;: false, &quot;opacity&quot;: 1, &quot;subdomains&quot;: &quot;abc&quot;, &quot;tms&quot;: false}\n",
              "            ).addTo(map_270ba2b7dd8179d1dcd47ae085306e7a);\n",
              "        \n",
              "    \n",
              "            var heat_map_083eb60bb589ea0764e6945fdb354fbf = L.heatLayer(\n",
              "                [[19.359655, -99.162025], [19.371308, -99.177607], [19.36480833, -99.17602222], [19.36479722, -99.17458333], [19.36065, -99.168669], [19.384378, -99.176097], [19.384062, -99.181482], [19.381292, -99.170171], [19.3804457, -99.1762233], [19.379246, -99.179344], [19.379884, -99.177478], [19.37797, -99.170289], [19.375751, -99.17084], [19.3709452, -99.1587223], [19.431655, -99.158668], [19.432313, -99.161597], [19.423778, -99.175558], [19.42653, -99.169164], [19.427501, -99.167125], [19.43001, -99.161675], [19.423317, -99.175124], [19.419725, -99.175778], [19.419515, -99.166299], [19.435637, -99.150137], [19.434356, -99.138064], [19.414903, -99.17495], [19.411402, -99.178666], [19.410343, -99.172831], [19.413681, -99.171531], [19.411272, -99.169718], [19.433815, -99.135303], [19.409893, -99.179544], [19.432378, -99.159077], [19.42821, -99.13949], [19.42513, -99.14339], [19.438371, -99.166474], [19.432819, -99.151734], [19.424161, -99.153117], [19.409965, -99.164292], [19.406683, -99.167962], [19.402584, -99.178199], [19.401682, -99.176398], [19.44111, -99.16164], [19.435882, -99.19152], [19.440077, -99.204316], [19.431791, -99.207373], [19.404976, -99.175095], [19.42894, -99.185389], [19.426744, -99.193986], [19.426765, -99.193752], [19.42783, -99.191539], [19.440839, -99.196712], [19.43175, -99.177399], [19.429057, -99.17966], [19.425835, -99.177924], [19.437159, -99.161808], [19.43757, -99.15468], [19.423704, -99.175196], [19.440985, -99.152935], [19.440839, -99.152265], [19.442707, -99.152956], [19.401807, -99.15909], [19.40071, -99.163831], [19.442689, -99.152465], [19.39827, -99.167383], [19.396333, -99.183575], [19.394693, -99.175531], [19.393594, -99.178072], [19.395319, -99.181733], [19.393665, -99.185391], [19.391431, -99.178989], [19.389477, -99.157513], [19.388528, -99.160616], [19.3881779, -99.1696894], [19.429261, -99.17538], [19.427575, -99.17702], [19.429877, -99.177569], [19.434147, -99.179835], [19.432102, -99.180565], [19.435031, -99.179838], [19.36218889, -99.17246667], [19.366217, -99.177819], [19.367631, -99.175342], [19.365154, -99.172906], [19.369723, -99.17964], [19.369467, -99.179401], [19.368356, -99.177487], [19.385688, -99.180857], [19.386568, -99.175089], [19.388978, -99.174811], [19.444031, -99.152187], [19.443735, -99.152203], [19.442448, -99.151586], [19.442467, -99.151658], [19.443467, -99.152491], [19.442772, -99.153289], [19.441062, -99.153164], [19.442689, -99.152286], [19.385365, -99.178216], [19.382207, -99.181043], [19.380813, -99.183851], [19.382168, -99.178808], [19.43693, -99.13395], [19.435354, -99.147742], [19.426755, -99.135014], [19.42649, -99.133537], [19.427329, -99.149971], [19.427305, -99.149533], [19.425311, -99.137421], [19.436142, -99.139906], [19.43182, -99.13974], [19.434946, -99.133989], [19.431698, -99.132446], [19.4374, -99.137571], [19.436531, -99.131497], [19.436741, -99.134811], [19.433766, -99.130918], [19.430722, -99.133698], [19.430625, -99.14248], [19.429189, -99.132759], [19.430267, -99.14861], [19.42995, -99.14591], [19.428485, -99.1338], [19.428366, -99.135895], [19.433115, -99.143686], [19.436236, -99.142039], [19.433686, -99.146557], [19.435228, -99.146063], [19.434913, -99.149939], [19.42592, -99.190755], [19.425907, -99.190733], [19.424282, -99.180334], [19.424926, -99.185147], [19.4167, -99.1791], [19.416712, -99.175704], [19.416938, -99.173648], [19.414773, -99.178433], [19.416215, -99.170825], [19.41568, -99.171793], [19.411797, -99.17588], [19.411556, -99.17406], [19.414191, -99.177123], [19.413322, -99.175202], [19.430992, -99.163593], [19.430964, -99.160206], [19.42836, -99.165543], [19.424768, -99.173261], [19.425477, -99.171567], [19.428309, -99.171713], [19.42972, -99.169363], [19.430922, -99.166959], [19.425468, -99.175166], [19.433296, -99.168051], [19.431386, -99.171695], [19.428009, -99.169918], [19.427059, -99.137116], [19.422392, -99.150358], [19.425502, -99.146337], [19.380598, -99.1669248], [19.380168, -99.164222], [19.379269, -99.161169], [19.3790279, -99.1628259], [19.3872468, -99.1656554], [19.384099, -99.160826], [19.382107, -99.162243], [19.387003, -99.173504], [19.385531, -99.169673], [19.384849, -99.16704], [19.384249, -99.163273], [19.377968, -99.166663], [19.376964, -99.161116], [19.398692, -99.161273], [19.399908, -99.166553], [19.389026, -99.163403], [19.391056, -99.1712], [19.391456, -99.166157], [19.392249, -99.164127], [19.391991, -99.162684], [19.397651, -99.169946], [19.396917, -99.166264], [19.397373, -99.164598], [19.394073, -99.16214], [19.394601, -99.165054], [19.393268, -99.168333], [19.393807, -99.171133], [19.393832, -99.171466], [19.375394, -99.16375], [19.375823, -99.168076], [19.373228, -99.17826], [19.373142, -99.178283], [19.372437, -99.171592], [19.373742, -99.169814], [19.371554, -99.170187], [19.373194, -99.167247], [19.37103, -99.16566], [19.372407, -99.164519], [19.3726458, -99.1642743], [19.363558, -99.170819], [19.363776, -99.171498], [19.367208, -99.170531], [19.367087, -99.16741], [19.369782, -99.171906], [19.370187, -99.173712], [19.371498, -99.17602], [19.399688, -99.177524], [19.399201, -99.179943], [19.398946, -99.183254], [19.400806, -99.172645], [19.403365, -99.181553], [19.406069, -99.183549], [19.404651, -99.179375], [19.403997, -99.1776], [19.403019, -99.174934], [19.404029, -99.184342], [19.375764, -99.181527], [19.378345, -99.181973], [19.363418, -99.160353], [19.36145, -99.15822], [19.361296, -99.162581], [19.359384, -99.159425], [19.35827, -99.156105], [19.3591196, -99.1561282], [19.440344, -99.20105], [19.440885, -99.193315], [19.438165, -99.190368], [19.408841, -99.181692], [19.406833, -99.180457], [19.410245, -99.175612], [19.408722, -99.17669], [19.409439, -99.170462], [19.406765, -99.178321], [19.407503, -99.177382], [19.407534, -99.174427], [19.407307, -99.172118], [19.408006, -99.168475], [19.413742, -99.169525], [19.410733, -99.168111], [19.415121, -99.166661], [19.406296, -99.172117], [19.40702, -99.169587], [19.411423, -99.171351], [19.412877, -99.166986], [19.404452, -99.171438], [19.404554, -99.169953], [19.402089, -99.17139], [19.373262, -99.184333], [19.371152, -99.183034], [19.370606, -99.181502], [19.375873, -99.185583], [19.375651, -99.18558], [19.37484, -99.185846], [19.37455556, -99.180505555556], [19.373038, -99.181355], [19.373528, -99.179356], [19.384498, -99.172223], [19.385019, -99.174077], [19.38205, -99.173291], [19.418858, -99.176776], [19.42018, -99.174393], [19.430369, -99.154419], [19.428989, -99.153618], [19.429947, -99.159698], [19.428985, -99.15664], [19.427132, -99.160369], [19.427114, -99.158251], [19.42679, -99.15554], [19.425437, -99.159458], [19.424137, -99.161317], [19.426442, -99.164323], [19.427838, -99.161193], [19.422705, -99.169922], [19.424234, -99.166431], [19.424539, -99.163503], [19.424572, -99.163123], [19.424375, -99.172575], [19.425483, -99.170414], [19.426102, -99.168992], [19.426944, -99.166946], [19.432685, -99.154726], [19.429115, -99.162614], [19.423542, -99.172494], [19.373813, -99.157387], [19.376865, -99.158818], [19.375442, -99.161595], [19.387624, -99.180978], [19.397693, -99.172981], [19.394842, -99.173025], [19.395043, -99.173821], [19.393162, -99.17956], [19.393699, -99.175664], [19.393701, -99.175834], [19.397308, -99.174548], [19.396333, -99.172667], [19.391647, -99.177331], [19.391472, -99.1736], [19.38885, -99.17772], [19.391323, -99.15936], [19.396513, -99.160924], [19.396328, -99.156871], [19.394283, -99.158756], [19.394412, -99.158907], [19.4015, -99.156406], [19.398532, -99.157308], [19.401986, -99.156366], [19.386032, -99.160548], [19.385571, -99.158188], [19.382851, -99.158204], [19.381076, -99.159455], [19.37946, -99.181632], [19.381665, -99.176685], [19.42902, -99.201322], [19.429314, -99.196965], [19.430153, -99.181355], [19.43855, -99.2063], [19.43862, -99.20758], [19.42933, -99.20218], [19.42944, -99.20243], [19.438349, -99.192904], [19.427705, -99.19912], [19.430515, -99.203331], [19.430098, -99.200074], [19.42977, -99.19349], [19.438168, -99.203888], [19.437934, -99.197241], [19.437596, -99.188785], [19.437431, -99.187215], [19.43617, -99.198943], [19.435985, -99.194832], [19.435525, -99.184713], [19.435798, -99.201419], [19.434861, -99.183322], [19.434182, -99.189835], [19.435478, -99.206359], [19.434076, -99.194091], [19.433607, -99.188528], [19.433567, -99.188096], [19.435197, -99.206967], [19.434353, -99.20322], [19.43384, -99.19968], [19.433419, -99.195746], [19.432888, -99.183605], [19.432451, -99.188033], [19.433542, -99.207808], [19.432655, -99.205727], [19.431799, -99.201565], [19.431417, -99.195774], [19.431242, -99.191613], [19.431255, -99.188065], [19.431172, -99.185612], [19.431033, -99.18222], [19.370619, -99.156626], [19.367294, -99.158694], [19.36677, -99.156843], [19.420419, -99.172676], [19.420801, -99.171407], [19.422484, -99.167153], [19.42223, -99.164297], [19.416959, -99.165702], [19.420472, -99.168238], [19.417995, -99.168248], [19.418057, -99.174761], [19.418649, -99.172127], [19.419214, -99.169732], [19.424541, -99.156204], [19.422288, -99.162138], [19.423318, -99.15833], [19.422148, -99.160645], [19.4206, -99.163312], [19.421576, -99.158015], [19.419579, -99.161314], [19.420667, -99.15645], [19.421138, -99.154725], [19.418304, -99.15956], [19.419225, -99.155099], [19.417715, -99.162729], [19.418774, -99.157081], [19.417702, -99.155313], [19.416128, -99.162097], [19.416605, -99.156853], [19.415905, -99.15954], [19.413232, -99.164121], [19.414303, -99.157542], [19.415192, -99.154837], [19.41286, -99.160661], [19.410737, -99.165716], [19.412182, -99.158443], [19.412829, -99.155116], [19.41199, -99.155699], [19.410529, -99.160873], [19.409098, -99.167181], [19.407468, -99.165141], [19.408218, -99.159911], [19.407121, -99.162202], [19.406236, -99.166616], [19.407447, -99.155717], [19.407517, -99.155373], [19.405533, -99.164913], [19.404907, -99.162485], [19.405246, -99.156431], [19.403204, -99.16596], [19.404268, -99.160503], [19.365102, -99.155499], [19.36564, -99.158063], [19.367864, -99.163626], [19.3684182, -99.1654145], [19.367831, -99.163261], [19.365023, -99.162993], [19.363071, -99.158292], [19.362139, -99.154974], [19.372147, -99.16158], [19.371371, -99.158639], [19.41479, -99.18508], [19.4128, -99.1828], [19.41249, -99.18875], [19.41123, -99.18551], [19.41171, -99.19014], [19.41004, -99.18798], [19.409569, -99.183833], [19.4079, -99.18795], [19.383063, -99.185858], [19.381117, -99.186687], [19.384114, -99.185447], [19.385751, -99.186297], [19.392634, -99.183737], [19.392586, -99.184742], [19.390306, -99.184812], [19.389358, -99.182606], [19.388547, -99.183971], [19.385508, -99.183809], [19.436274, -99.158425], [19.4372, -99.15816], [19.4338, -99.16622], [19.43935, -99.16007], [19.43767, -99.16402], [19.44025, -99.16346], [19.441669, -99.165217], [19.43425, -99.162508], [19.433321, -99.154752], [19.431141, -99.158317], [19.43676, -99.15387], [19.43836, -99.152226], [19.3730067, -99.1747749], [19.372796, -99.172558], [19.378818, -99.177054], [19.378542, -99.174328], [19.374876, -99.173512], [19.375541, -99.177894], [19.375591, -99.178084], [19.361215, -99.167527], [19.359905, -99.1653], [19.365519, -99.166017]],\n",
              "                {&quot;blur&quot;: 15, &quot;maxZoom&quot;: 18, &quot;minOpacity&quot;: 0.5, &quot;radius&quot;: 25}\n",
              "            ).addTo(map_270ba2b7dd8179d1dcd47ae085306e7a);\n",
              "        \n",
              "&lt;/script&gt;\" style=\"position:absolute;width:100%;height:100%;left:0;top:0;border:none !important;\" allowfullscreen webkitallowfullscreen mozallowfullscreen></iframe></div></div>"
            ]
          },
          "metadata": {},
          "execution_count": 20
        }
      ]
    },
    {
      "cell_type": "code",
      "source": [
        "from google.colab import drive\n",
        "drive.mount('/content/drive')"
      ],
      "metadata": {
        "id": "T_FTFRWfdW2Z",
        "colab": {
          "base_uri": "https://localhost:8080/"
        },
        "outputId": "cef03783-755b-4565-8a14-3e4d9d23df19"
      },
      "execution_count": null,
      "outputs": [
        {
          "output_type": "stream",
          "name": "stdout",
          "text": [
            "Drive already mounted at /content/drive; to attempt to forcibly remount, call drive.mount(\"/content/drive\", force_remount=True).\n"
          ]
        }
      ]
    },
    {
      "cell_type": "code",
      "source": [
        "pd_viajes.head()"
      ],
      "metadata": {
        "colab": {
          "base_uri": "https://localhost:8080/",
          "height": 169
        },
        "id": "4__olGM1dcqp",
        "outputId": "a297d640-7653-4bc1-d1b3-bd34b18c0acd"
      },
      "execution_count": null,
      "outputs": [
        {
          "output_type": "error",
          "ename": "NameError",
          "evalue": "ignored",
          "traceback": [
            "\u001b[0;31m---------------------------------------------------------------------------\u001b[0m",
            "\u001b[0;31mNameError\u001b[0m                                 Traceback (most recent call last)",
            "\u001b[0;32m<ipython-input-23-f39b8b5e2b91>\u001b[0m in \u001b[0;36m<module>\u001b[0;34m\u001b[0m\n\u001b[0;32m----> 1\u001b[0;31m \u001b[0mpd_viajes\u001b[0m\u001b[0;34m.\u001b[0m\u001b[0mhead\u001b[0m\u001b[0;34m(\u001b[0m\u001b[0;34m)\u001b[0m\u001b[0;34m\u001b[0m\u001b[0;34m\u001b[0m\u001b[0m\n\u001b[0m",
            "\u001b[0;31mNameError\u001b[0m: name 'pd_viajes' is not defined"
          ]
        }
      ]
    },
    {
      "cell_type": "code",
      "source": [],
      "metadata": {
        "id": "0BQ7jZnZQkNV"
      },
      "execution_count": null,
      "outputs": []
    },
    {
      "cell_type": "code",
      "source": [
        "df_viajes.isna().sum()"
      ],
      "metadata": {
        "id": "LMdTxnZpd5B5"
      },
      "execution_count": null,
      "outputs": []
    },
    {
      "cell_type": "code",
      "source": [
        "df_viajes = df_viajes.dropna()"
      ],
      "metadata": {
        "id": "JMGQsZLId5Iq"
      },
      "execution_count": null,
      "outputs": []
    },
    {
      "cell_type": "code",
      "source": [
        "df_viajes = df_viajes.reset_index(drop=true)\n",
        "df_viajes.describe()"
      ],
      "metadata": {
        "id": "LDqqjO9heOLh"
      },
      "execution_count": null,
      "outputs": []
    },
    {
      "cell_type": "code",
      "source": [
        "df_viajes.groupby(by='Bici').count().sort_values(by='Genero_Usuario', ascending=False).head(10)"
      ],
      "metadata": {
        "id": "aP-V0rYifn9O"
      },
      "execution_count": null,
      "outputs": []
    },
    {
      "cell_type": "code",
      "source": [
        "lista_estaciones = list(df_viajes.groupby(by = 'Ciclo_EstacionArribo').count().sort_values(by = 'Bici', ascending = False).head(5).index.values)"
      ],
      "metadata": {
        "id": "wm7-63BIiqPG"
      },
      "execution_count": null,
      "outputs": []
    },
    {
      "cell_type": "code",
      "source": [
        "lista_estaciones"
      ],
      "metadata": {
        "id": "3J7rC_wgjwRS"
      },
      "execution_count": null,
      "outputs": []
    },
    {
      "cell_type": "code",
      "source": [
        "df_estaciones.head()"
      ],
      "metadata": {
        "id": "YIwz18r6JVYm"
      },
      "execution_count": null,
      "outputs": []
    },
    {
      "cell_type": "code",
      "source": [
        "df_plot = df_estaciones[df_estaciones.id.isin(lista_estaciones)]"
      ],
      "metadata": {
        "id": "O2N09FkQjyrw"
      },
      "execution_count": null,
      "outputs": []
    },
    {
      "cell_type": "code",
      "source": [
        "df_plot = df_plot.reset_index(drop=Tru)"
      ],
      "metadata": {
        "id": "7_Ciq7LRLQgJ"
      },
      "execution_count": null,
      "outputs": []
    },
    {
      "cell_type": "code",
      "source": [
        "for i in range (0, len(df_plot)):\n",
        "  folium.Maker(\n",
        "       location = [df.iloc[i]['lat'], df_plot.iloc[i]['lon']],\n",
        "       popup = df_plot.iloc[i]['name'],\n",
        "  ).add_to(hmap)\n",
        "  hmap\n",
        " \n"
      ],
      "metadata": {
        "id": "z5Tt5It-Jmii"
      },
      "execution_count": null,
      "outputs": []
    },
    {
      "cell_type": "code",
      "source": [
        "df_viajes['Hora_Arribo'] = df_viajes ['Hora_Arribo'].apply (lamda x: x.replace('.', ':')) #sustituido y por cual la vas a sustituir"
      ],
      "metadata": {
        "id": "Uooic8hbMDej"
      },
      "execution_count": null,
      "outputs": []
    },
    {
      "cell_type": "code",
      "source": [
        "df_viajes.columns"
      ],
      "metadata": {
        "id": "e6XF-hzBNau4"
      },
      "execution_count": null,
      "outputs": []
    },
    {
      "cell_type": "code",
      "source": [
        "df_viajes['Tiempo_arribo'] = pd.to_datetime(df_viajes['Fecha_arribo'], dayfirst=True) + pd.to_timedelts(df_viajes['Hora_Arribo'])\n",
        "df_viajes"
      ],
      "metadata": {
        "id": "dpFHyQw7NhGR"
      },
      "execution_count": null,
      "outputs": []
    },
    {
      "cell_type": "code",
      "source": [
        "df_viajes['hr'] = df_viajes['Tiempo_arrio'].apply(lamda x:x, hour)"
      ],
      "metadata": {
        "id": "XM7ZTEWCPDMZ"
      },
      "execution_count": null,
      "outputs": []
    },
    {
      "cell_type": "code",
      "source": [
        "df_viajes['dow'] = df_viajes['Tiempo_arrio'].apply(lamda x:x, weekday())\n",
        "df_viajes"
      ],
      "metadata": {
        "id": "Awh1oRyuPaih"
      },
      "execution_count": null,
      "outputs": []
    },
    {
      "cell_type": "code",
      "source": [
        "df_viajes['dow_name'] = df_viajes['Tiempo_arrio'].apply(lamda x:x, day_name())\n",
        "df_viajes"
      ],
      "metadata": {
        "id": "_0Ld8_kCQmHK"
      },
      "execution_count": null,
      "outputs": []
    },
    {
      "cell_type": "code",
      "source": [
        "df_viajes.groupby('hr).count()"
      ],
      "metadata": {
        "id": "hwdijzHYSNU3"
      },
      "execution_count": null,
      "outputs": []
    },
    {
      "cell_type": "code",
      "source": [
        "selling_hrs = [6,7,8,9,10]\n",
        "days_off = ['Saturday', 'Sunday']"
      ],
      "metadata": {
        "id": "6cBEHBfKbsSo"
      },
      "execution_count": null,
      "outputs": []
    },
    {
      "cell_type": "code",
      "source": [
        "df_venta = df_viajes[df_viajes.hr.isin(selling_hrs)].reset-index(drop=True)\n",
        "df_venta = df_venta[~df_venta.dow_name.isin(days_off)].reset_index(drop=True)"
      ],
      "metadata": {
        "id": "5Lxn0kgjb5Sx"
      },
      "execution_count": null,
      "outputs": []
    },
    {
      "cell_type": "code",
      "source": [
        "df_venta"
      ],
      "metadata": {
        "id": "XK1_dWSBckSh"
      },
      "execution_count": null,
      "outputs": []
    },
    {
      "cell_type": "code",
      "source": [
        "df_venta.columns"
      ],
      "metadata": {
        "id": "g6TZeFR_ehMC"
      },
      "execution_count": null,
      "outputs": []
    },
    {
      "cell_type": "code",
      "source": [
        "df_master = pd.merge(df_venta, df_estaciones, left_on='Ciclo_EstacionArribo', right_on = 'id')"
      ],
      "metadata": {
        "id": "-4riwaLleXLj"
      },
      "execution_count": null,
      "outputs": []
    },
    {
      "cell_type": "code",
      "source": [
        "df_master.columns"
      ],
      "metadata": {
        "id": "7XEP_SdjfRA1"
      },
      "execution_count": null,
      "outputs": []
    },
    {
      "cell_type": "code",
      "source": [
        "df_master.dow_name.unique()"
      ],
      "metadata": {
        "id": "SABFnkLrftvc"
      },
      "execution_count": null,
      "outputs": []
    },
    {
      "cell_type": "code",
      "source": [
        "df_master.shape"
      ],
      "metadata": {
        "id": "1B5lhTMqhYHZ"
      },
      "execution_count": null,
      "outputs": []
    },
    {
      "cell_type": "code",
      "source": [
        "df_master.groupby('Ciclo_EstacionArribo').count().sort_value(by='Bici', ascending=False).head()"
      ],
      "metadata": {
        "id": "QUV4fHUUhaYJ"
      },
      "execution_count": null,
      "outputs": []
    },
    {
      "cell_type": "code",
      "source": [
        "df_master.groupby('Ciclo_EstacionArribo').count().sort_value(by='Bici', ascending=False).head()"
      ],
      "metadata": {
        "id": "3Lvkg89CiJxT"
      },
      "execution_count": null,
      "outputs": []
    },
    {
      "cell_type": "code",
      "source": [
        "lista_estaciones_finales = list(df_master.groupby('Ciclo_EstacionArribo').count().sort_value(by='Bici', ascending=False).head().index)"
      ],
      "metadata": {
        "id": "3unPKd0njYLI"
      },
      "execution_count": null,
      "outputs": []
    },
    {
      "cell_type": "code",
      "source": [
        "lista_estaciones_finales"
      ],
      "metadata": {
        "id": "QSlKfKfYkEdH"
      },
      "execution_count": null,
      "outputs": []
    },
    {
      "cell_type": "code",
      "source": [
        "df_master_final = df_master[df_master['Ciclo_EstacionArribo'].isin(lista_estaciones_finales)].reset_index(drop=True)\n",
        "df_master_final"
      ],
      "metadata": {
        "id": "hzHn-HDCmvgk"
      },
      "execution_count": null,
      "outputs": []
    },
    {
      "cell_type": "code",
      "source": [
        "g = sns.FacetGrid(df_master_final, col='dow_name', row = 'Genero_Usuario')\n",
        "g.map(sns.histplot,'hr')"
      ],
      "metadata": {
        "id": "27uj8jaomRm6"
      },
      "execution_count": null,
      "outputs": []
    },
    {
      "cell_type": "code",
      "source": [],
      "metadata": {
        "id": "Rov_BZ4QQlg3"
      },
      "execution_count": null,
      "outputs": []
    }
  ]
}