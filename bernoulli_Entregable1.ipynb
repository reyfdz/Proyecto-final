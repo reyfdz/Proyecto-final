{
  "nbformat": 4,
  "nbformat_minor": 0,
  "metadata": {
    "colab": {
      "provenance": [],
      "authorship_tag": "ABX9TyMup/+NC7+BjssncrvGuCY3",
      "include_colab_link": true
    },
    "kernelspec": {
      "name": "python3",
      "display_name": "Python 3"
    },
    "language_info": {
      "name": "python"
    }
  },
  "cells": [
    {
      "cell_type": "markdown",
      "metadata": {
        "id": "view-in-github",
        "colab_type": "text"
      },
      "source": [
        "<a href=\"https://colab.research.google.com/github/reyfdz/Proyecto-final/blob/main/bernoulli_Entregable1.ipynb\" target=\"_parent\"><img src=\"https://colab.research.google.com/assets/colab-badge.svg\" alt=\"Open In Colab\"/></a>"
      ]
    },
    {
      "cell_type": "code",
      "execution_count": null,
      "metadata": {
        "id": "_OMMYVR6Mtqz"
      },
      "outputs": [],
      "source": [
        "from scipy.stats import bernoulli\n",
        "import numpy as np\n",
        "import sympy\n",
        "from sympy.abc import x, z, n"
      ]
    },
    {
      "cell_type": "code",
      "source": [
        "fp = bernoulli(0.7)\n",
        "fp.rvs(30)"
      ],
      "metadata": {
        "colab": {
          "base_uri": "https://localhost:8080/"
        },
        "id": "NGCYa6x7NAFt",
        "outputId": "1721b27d-953a-4a96-d263-497f7a20571e"
      },
      "execution_count": null,
      "outputs": [
        {
          "output_type": "execute_result",
          "data": {
            "text/plain": [
              "array([0, 0, 1, 1, 1, 1, 1, 1, 1, 0, 1, 1, 1, 1, 1, 1, 0, 1, 1, 1, 1, 1,\n",
              "       1, 1, 0, 0, 1, 1, 1, 1])"
            ]
          },
          "metadata": {},
          "execution_count": 2
        }
      ]
    },
    {
      "cell_type": "code",
      "source": [
        "sum(fp.rvs(30))/30 #la proporcion es la suma de todos los 1 entre el total"
      ],
      "metadata": {
        "colab": {
          "base_uri": "https://localhost:8080/"
        },
        "id": "YIz9YtcXNWFz",
        "outputId": "2fdb41fa-1db9-49d0-948f-ac0d6b2ca04c"
      },
      "execution_count": null,
      "outputs": [
        {
          "output_type": "execute_result",
          "data": {
            "text/plain": [
              "0.7"
            ]
          },
          "metadata": {},
          "execution_count": 3
        }
      ]
    },
    {
      "cell_type": "code",
      "source": [
        "xs = fp.rvs(100)\n",
        "sum(xs)/100 # entre ms grande sea el numero mejor es la aproximidad a la probabilidad real"
      ],
      "metadata": {
        "colab": {
          "base_uri": "https://localhost:8080/"
        },
        "id": "JalMcAxPNAG1",
        "outputId": "2df526e6-43aa-4a38-f386-96d6a8bd4505"
      },
      "execution_count": null,
      "outputs": [
        {
          "output_type": "execute_result",
          "data": {
            "text/plain": [
              "0.64"
            ]
          },
          "metadata": {},
          "execution_count": 4
        }
      ]
    },
    {
      "cell_type": "code",
      "source": [
        "xs"
      ],
      "metadata": {
        "colab": {
          "base_uri": "https://localhost:8080/"
        },
        "id": "rOfY-yiuP-Ed",
        "outputId": "05c8ce89-fab2-4fc2-b201-2b8e8b1e41cd"
      },
      "execution_count": null,
      "outputs": [
        {
          "output_type": "execute_result",
          "data": {
            "text/plain": [
              "array([1, 1, 0, 1, 0, 0, 0, 1, 0, 1, 1, 1, 1, 1, 1, 1, 0, 1, 1, 0, 1, 0,\n",
              "       1, 1, 1, 1, 0, 1, 0, 1, 0, 0, 1, 0, 1, 1, 1, 1, 1, 1, 1, 0, 1, 0,\n",
              "       1, 0, 1, 1, 1, 1, 1, 1, 0, 1, 1, 1, 0, 0, 0, 1, 1, 1, 1, 1, 1, 0,\n",
              "       0, 1, 0, 1, 1, 0, 1, 1, 0, 1, 1, 0, 1, 1, 1, 0, 1, 0, 1, 1, 0, 1,\n",
              "       0, 0, 0, 1, 0, 1, 0, 1, 0, 1, 0, 1])"
            ]
          },
          "metadata": {},
          "execution_count": 5
        }
      ]
    },
    {
      "cell_type": "code",
      "source": [
        "p = sympy.symbols(\"p\", positive = True)"
      ],
      "metadata": {
        "id": "ZxjQpjcwRKgV"
      },
      "execution_count": null,
      "outputs": []
    },
    {
      "cell_type": "code",
      "source": [
        "np.cumsum(xs)"
      ],
      "metadata": {
        "colab": {
          "base_uri": "https://localhost:8080/"
        },
        "id": "M4dSP5O-RTY0",
        "outputId": "a5b5e870-903f-4298-c0e7-a37c7b3cd052"
      },
      "execution_count": null,
      "outputs": [
        {
          "output_type": "execute_result",
          "data": {
            "text/plain": [
              "array([ 1,  2,  2,  3,  3,  3,  3,  4,  4,  5,  6,  7,  8,  9, 10, 11, 11,\n",
              "       12, 13, 13, 14, 14, 15, 16, 17, 18, 18, 19, 19, 20, 20, 20, 21, 21,\n",
              "       22, 23, 24, 25, 26, 27, 28, 28, 29, 29, 30, 30, 31, 32, 33, 34, 35,\n",
              "       36, 36, 37, 38, 39, 39, 39, 39, 40, 41, 42, 43, 44, 45, 45, 45, 46,\n",
              "       46, 47, 48, 48, 49, 50, 50, 51, 52, 52, 53, 54, 55, 55, 56, 56, 57,\n",
              "       58, 58, 59, 59, 59, 59, 60, 60, 61, 61, 62, 62, 63, 63, 64])"
            ]
          },
          "metadata": {},
          "execution_count": 7
        }
      ]
    },
    {
      "cell_type": "code",
      "source": [
        "f = p**x*(1-p)**(1-x)\n",
        "f"
      ],
      "metadata": {
        "colab": {
          "base_uri": "https://localhost:8080/",
          "height": 40
        },
        "id": "OzFHbWDtRYqk",
        "outputId": "1dc7d8da-779f-484c-b51c-4b3ccb512b0a"
      },
      "execution_count": null,
      "outputs": [
        {
          "output_type": "execute_result",
          "data": {
            "text/plain": [
              "p**x*(1 - p)**(1 - x)"
            ],
            "text/latex": "$\\displaystyle p^{x} \\left(1 - p\\right)^{1 - x}$"
          },
          "metadata": {},
          "execution_count": 8
        }
      ]
    },
    {
      "cell_type": "code",
      "source": [
        "#p con gorrito es el maximo verosimil, el que mas se aproxima a la variable"
      ],
      "metadata": {
        "id": "OrbMIQsoTil_"
      },
      "execution_count": null,
      "outputs": []
    },
    {
      "cell_type": "code",
      "source": [
        "J = np.prod([f.subs(x, i)for i in xs])\n",
        "logJ = sympy.expand_log(sympy.log(J))\n",
        "print(J)\n",
        "print(logJ)"
      ],
      "metadata": {
        "id": "4b2LspUFW2h6",
        "colab": {
          "base_uri": "https://localhost:8080/"
        },
        "outputId": "7cef6337-b9fc-4681-e49e-dd37b5b25547"
      },
      "execution_count": null,
      "outputs": [
        {
          "output_type": "stream",
          "name": "stdout",
          "text": [
            "p**64*(1 - p)**36\n",
            "64*log(p) + log((1 - p)**36)\n"
          ]
        }
      ]
    },
    {
      "cell_type": "code",
      "source": [
        "phat = sympy.solve(sympy.diff(logJ,p),p)[0]\n",
        "phat"
      ],
      "metadata": {
        "colab": {
          "base_uri": "https://localhost:8080/",
          "height": 51
        },
        "id": "hgJTntzQaM0J",
        "outputId": "481842dd-c561-49a3-c3b2-70381ae8f4dc"
      },
      "execution_count": null,
      "outputs": [
        {
          "output_type": "execute_result",
          "data": {
            "text/plain": [
              "16/25"
            ],
            "text/latex": "$\\displaystyle \\frac{16}{25}$"
          },
          "metadata": {},
          "execution_count": 11
        }
      ]
    },
    {
      "cell_type": "markdown",
      "source": [
        "Ejercicios:\n",
        "\n",
        "Investigación:\n",
        "\n",
        "a. Menciona 5 aplicaciones de la variable aleatoria exponencial.\n",
        "\n",
        "b. ¿Qué aplicaciones de la exponencial podrían ser de utilidad en tu carrera?\n",
        "\n",
        "Crea una muestra aleatoria de 1000 datos tomados a partir de una muestra aleatoria exponencial.\n",
        "\n",
        "Calcula el MLE para tu conjunto de datos."
      ],
      "metadata": {
        "id": "jEzzHL_9S8MO"
      }
    },
    {
      "cell_type": "code",
      "source": [
        "\n",
        "from sympy import exp\n",
        "l = sympy.symbols(\"l\", positive = True)\n",
        "f = (1/l**1000)*exp(-13/l)\n",
        "logf = sympy.expand_log(sympy.log(f))\n",
        "lhat = sympy.solve(sympy.diff(logf,l),l)[0]\n",
        "\n",
        "print(\"El estimador MLE es\", lhat)"
      ],
      "metadata": {
        "colab": {
          "base_uri": "https://localhost:8080/"
        },
        "id": "9C7JiPDpS-SP",
        "outputId": "1a55c38a-0ea3-4991-dd81-f32887755219"
      },
      "execution_count": null,
      "outputs": [
        {
          "output_type": "stream",
          "name": "stdout",
          "text": [
            "El estimador MLE es 13/1000\n"
          ]
        }
      ]
    }
  ]
}