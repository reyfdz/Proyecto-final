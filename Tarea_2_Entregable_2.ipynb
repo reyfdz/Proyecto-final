{
  "nbformat": 4,
  "nbformat_minor": 0,
  "metadata": {
    "colab": {
      "provenance": [],
      "include_colab_link": true
    },
    "kernelspec": {
      "name": "python3",
      "display_name": "Python 3"
    },
    "language_info": {
      "name": "python"
    }
  },
  "cells": [
    {
      "cell_type": "markdown",
      "metadata": {
        "id": "view-in-github",
        "colab_type": "text"
      },
      "source": [
        "<a href=\"https://colab.research.google.com/github/reyfdz/Proyecto-final/blob/main/Tarea_2_Entregable_2.ipynb\" target=\"_parent\"><img src=\"https://colab.research.google.com/assets/colab-badge.svg\" alt=\"Open In Colab\"/></a>"
      ]
    },
    {
      "cell_type": "code",
      "source": [
        "%matplotlib inline\n",
        "import matplotlib.pyplot as plt\n",
        "import seaborn as sns; sns.set()\n",
        "import numpy as np\n",
        "from scipy import stats"
      ],
      "metadata": {
        "id": "nrJO49X503R4"
      },
      "execution_count": null,
      "outputs": []
    },
    {
      "cell_type": "code",
      "execution_count": null,
      "metadata": {
        "colab": {
          "base_uri": "https://localhost:8080/",
          "height": 268
        },
        "id": "D4cI3fTqvUwm",
        "outputId": "07ecbc54-80e6-4106-fc32-d01bc3139ca1"
      },
      "outputs": [
        {
          "output_type": "display_data",
          "data": {
            "text/plain": [
              "<Figure size 432x288 with 1 Axes>"
            ],
            "image/png": "[encoded data removed]"
          },
          "metadata": {}
        }
      ],
      "source": [
        "\n",
        "\n",
        "x = [0.05,0.06,0.08, 0.10, 0.13, 0.15, 0.20, 0.22, 0.25, 0.29, 0.32, 0.33, 0.34, 0.37, 0.39, 0.41, 0.42, 0.44, 0.45, 0.46, 0.49]\n",
        "y = [1963, 1968, 1971, 1974, 1975, 1978, 1981, 1985, 1988, 1991, 1995, 1999, 2001, 2002, 2006, 2007, 2008, 2009, 2012, 2013,2014]\n",
        "\n",
        "plt.scatter(x, y)\n",
        "plt.show()"
      ]
    },
    {
      "cell_type": "code",
      "source": [
        "slope, intercept,r , p ,std_err = stats.linregress (x, y)"
      ],
      "metadata": {
        "id": "gp8El7SovdgU"
      },
      "execution_count": null,
      "outputs": []
    },
    {
      "cell_type": "code",
      "source": [
        "import numpy as np\n",
        "barx = np.mean(x)\n",
        "bary = np.mean(y)\n",
        "print(barx, bary)"
      ],
      "metadata": {
        "id": "SR6zr9tqvfPr",
        "colab": {
          "base_uri": "https://localhost:8080/"
        },
        "outputId": "f9afd5e7-3ea0-4aff-c976-b41fc13261f2"
      },
      "execution_count": null,
      "outputs": [
        {
          "output_type": "stream",
          "name": "stdout",
          "text": [
            "0.2833333333333334 1992.3809523809523\n"
          ]
        }
      ]
    },
    {
      "cell_type": "code",
      "source": [
        "varx = np.var(x, ddof=1) #varianza muestral\n",
        "covxy = np.cov(x,y, ddof=1) #covarianza muestral\n",
        "\n",
        "varx, covxy"
      ],
      "metadata": {
        "id": "gCCY5Akyvg-f",
        "colab": {
          "base_uri": "https://localhost:8080/"
        },
        "outputId": "b98bc8c1-9927-4c22-af0e-c78ec37a10a3"
      },
      "execution_count": null,
      "outputs": [
        {
          "output_type": "execute_result",
          "data": {
            "text/plain": [
              "(0.02096333333333333, array([[2.09633333e-02, 2.36516667e+00],\n",
              "        [2.36516667e+00, 2.69047619e+02]]))"
            ]
          },
          "metadata": {},
          "execution_count": 31
        }
      ]
    },
    {
      "cell_type": "code",
      "source": [
        "print(varx)"
      ],
      "metadata": {
        "id": "cG51ixjdvii2",
        "colab": {
          "base_uri": "https://localhost:8080/"
        },
        "outputId": "018fa75a-f87a-4f58-bf8a-0f06a06467f3"
      },
      "execution_count": null,
      "outputs": [
        {
          "output_type": "stream",
          "name": "stdout",
          "text": [
            "0.02096333333333333\n"
          ]
        }
      ]
    },
    {
      "cell_type": "code",
      "source": [
        "covxy = covxy[0,1]\n",
        "covxy"
      ],
      "metadata": {
        "id": "OhpY5qyFvkXr",
        "colab": {
          "base_uri": "https://localhost:8080/"
        },
        "outputId": "6a816699-5534-4a28-a601-a53728248506"
      },
      "execution_count": null,
      "outputs": [
        {
          "output_type": "execute_result",
          "data": {
            "text/plain": [
              "2.3651666666666666"
            ]
          },
          "metadata": {},
          "execution_count": 33
        }
      ]
    },
    {
      "cell_type": "code",
      "source": [
        "beta1 = covxy/varx\n",
        "beta0 = bary-beta1*barx\n",
        "print(beta0, beta1)"
      ],
      "metadata": {
        "id": "lnNW2E0dvl7J",
        "outputId": "68a61aef-f730-437b-8581-69920cf6591c",
        "colab": {
          "base_uri": "https://localhost:8080/"
        }
      },
      "execution_count": null,
      "outputs": [
        {
          "output_type": "stream",
          "name": "stdout",
          "text": [
            "1960.4141585080524 112.82397837494038\n"
          ]
        }
      ]
    },
    {
      "cell_type": "code",
      "source": [
        "import matplotlib.pyplot as plt\n",
        "from scipy import stats\n",
        "\n",
        "\n",
        "slope, intercept, r, p, std_err= stats.linregress(x, y)\n",
        "\n",
        "def myfunc(x):\n",
        "  return slope * x + intercept\n",
        "\n",
        "mymodel = list(map(myfunc, x))\n",
        "\n",
        "plt.scatter(x, y)\n",
        "plt.plot(x, mymodel)\n",
        "plt.show()"
      ],
      "metadata": {
        "id": "WDpACnafvnWw",
        "colab": {
          "base_uri": "https://localhost:8080/",
          "height": 268
        },
        "outputId": "e38ad451-d214-4b02-9736-4f79ef8b6465"
      },
      "execution_count": null,
      "outputs": [
        {
          "output_type": "display_data",
          "data": {
            "text/plain": [
              "<Figure size 432x288 with 1 Axes>"
            ],
            "image/png": "[encoded data removed]"
          },
          "metadata": {}
        }
      ]
    },
    {
      "cell_type": "code",
      "source": [
        "slope, intercept"
      ],
      "metadata": {
        "id": "pQVJEicwvpYX",
        "colab": {
          "base_uri": "https://localhost:8080/"
        },
        "outputId": "037fc9f2-cd13-4750-f79c-128c46635ead"
      },
      "execution_count": null,
      "outputs": [
        {
          "output_type": "execute_result",
          "data": {
            "text/plain": [
              "(112.8239783749404, 1960.4141585080524)"
            ]
          },
          "metadata": {},
          "execution_count": 36
        }
      ]
    },
    {
      "cell_type": "code",
      "source": [
        "r #es una medida (coeficiente de determinacion) que indica que tan buen modelo es el ajustado"
      ],
      "metadata": {
        "id": "kezqdSDFvsMC",
        "colab": {
          "base_uri": "https://localhost:8080/"
        },
        "outputId": "96fd91dc-7911-48ae-8c39-c067695d5d92"
      },
      "execution_count": null,
      "outputs": [
        {
          "output_type": "execute_result",
          "data": {
            "text/plain": [
              "0.9959029140154058"
            ]
          },
          "metadata": {},
          "execution_count": 37
        }
      ]
    },
    {
      "cell_type": "code",
      "source": [
        "s = myfunc(0.56) # es la prediccion del valor 10\n",
        "\n",
        "print(s)"
      ],
      "metadata": {
        "id": "-oU3Stu3vt1j",
        "colab": {
          "base_uri": "https://localhost:8080/"
        },
        "outputId": "6fd56052-09d3-4462-93ca-6a445d2f486e"
      },
      "execution_count": null,
      "outputs": [
        {
          "output_type": "stream",
          "name": "stdout",
          "text": [
            "2023.5955863980191\n"
          ]
        }
      ]
    }
  ]
}